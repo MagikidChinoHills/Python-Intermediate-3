{
  "nbformat": 4,
  "nbformat_minor": 0,
  "metadata": {
    "colab": {
      "provenance": []
    },
    "kernelspec": {
      "name": "python3",
      "display_name": "Python 3"
    },
    "language_info": {
      "name": "python"
    }
  },
  "cells": [
    {
      "cell_type": "markdown",
      "source": [
        "## Objectives:\n",
        "By the end of this lesson, you will:\n",
        "\n",
        "Understand **operator precedence** and how Python evaluates expressions.\n",
        "\n",
        "Learn the **order of operations** **(PEMDAS)** in Python.\n",
        "\n",
        "Predict the **output of expressions** step-by-step.\n",
        "\n",
        "Strengthen problem-solving skills through practice problems."
      ],
      "metadata": {
        "id": "8slOeh4EnMwk"
      }
    },
    {
      "cell_type": "markdown",
      "source": [
        "##1. Understanding Operator Precedence\n",
        "\n",
        "**Order of Operations in Python**\n",
        "\n",
        "Python evaluates expressions using a set order known as **operator precedence** , which follows:\n",
        "\n",
        "* Parentheses `()` – Operations inside parentheses are evaluated first.\n",
        "\n",
        "* Exponentiation `**` – Powers are calculated next.\n",
        "\n",
        "* Unary plus/minus `+x`, `-x` – Apply positive or negative signs.\n",
        "\n",
        "* Multiplication `*`, Division `/`, Floor Division `//`, Modulus `%` – Performed from left to right.\n",
        "\n",
        "* Addition `+` and Subtraction `-` – Performed from left to right.\n",
        "\n",
        "**Operator Precedence Table (From Highest to Lowest)**\n",
        "\n",
        "Precedence Level\tOperators\n",
        "\n",
        "* 1 `()`(Parentheses) -- **(Highest)**\n",
        "\n",
        "* 2\t`**`(Exponentiation)\n",
        "\n",
        "* 3\t`+x`, `-x` (Unary plus/minus)\n",
        "\n",
        "* 4\t`*`, `/`, `//`, `%` (Multiplication/Division)\n",
        "\n",
        "* 5\t`+`, `-` (Addition/Subtraction)\n",
        "\n",
        "* 6 `=` (Assignment) -- **(Lowest)**\n"
      ],
      "metadata": {
        "id": "kQbMj1dGnjCs"
      }
    },
    {
      "cell_type": "markdown",
      "source": [
        "## 2. Example Problems\n",
        "Problem 1: Evaluating a Simple Expression\n",
        "\n",
        "Expression:"
      ],
      "metadata": {
        "id": "xtKkuDCCpVza"
      }
    },
    {
      "cell_type": "code",
      "execution_count": null,
      "metadata": {
        "id": "xv5c4wdMi80l",
        "colab": {
          "base_uri": "https://localhost:8080/"
        },
        "outputId": "6c4a8f4e-bd33-4eb9-c62c-e1fcea0e9a60"
      },
      "outputs": [
        {
          "output_type": "stream",
          "name": "stdout",
          "text": [
            "12.0\n"
          ]
        }
      ],
      "source": [
        "# Expression 1\n",
        "print(5 * 2 + 8 / 4)"
      ]
    },
    {
      "cell_type": "code",
      "source": [
        "print(45/5)"
      ],
      "metadata": {
        "colab": {
          "base_uri": "https://localhost:8080/"
        },
        "id": "0jxY16skCFO2",
        "outputId": "8932f937-68d9-4a46-e856-c6ff055a995f"
      },
      "execution_count": null,
      "outputs": [
        {
          "output_type": "stream",
          "name": "stdout",
          "text": [
            "9.0\n"
          ]
        }
      ]
    },
    {
      "cell_type": "markdown",
      "source": [
        "Problem 2: Operator Grouping Without Parentheses\n",
        "\n",
        "Expression:"
      ],
      "metadata": {
        "id": "2Akv4jpNqGzq"
      }
    },
    {
      "cell_type": "code",
      "source": [
        "# Expression 2\n",
        "print(7 / 2 * 2)"
      ],
      "metadata": {
        "id": "f4jUmAgUqLe7",
        "colab": {
          "base_uri": "https://localhost:8080/"
        },
        "outputId": "1377b58f-511b-4688-d81b-ad45a35d1d86"
      },
      "execution_count": null,
      "outputs": [
        {
          "output_type": "stream",
          "name": "stdout",
          "text": [
            "7.0\n"
          ]
        }
      ]
    },
    {
      "cell_type": "code",
      "source": [
        "# Example\n",
        "print(7 / (2 * 2))"
      ],
      "metadata": {
        "colab": {
          "base_uri": "https://localhost:8080/"
        },
        "id": "st-ry7mBCmy9",
        "outputId": "553addfd-5b0f-4136-d3a8-8c2c55ed3d60"
      },
      "execution_count": null,
      "outputs": [
        {
          "output_type": "stream",
          "name": "stdout",
          "text": [
            "1.75\n"
          ]
        }
      ]
    },
    {
      "cell_type": "markdown",
      "source": [
        "Problem 3: Using Exponents and Floor Division\n",
        "\n",
        "Expression:"
      ],
      "metadata": {
        "id": "WW02R76WqPwj"
      }
    },
    {
      "cell_type": "code",
      "source": [
        "# Expression 3\n",
        "print(2 ** -1 + 5 // 2)"
      ],
      "metadata": {
        "id": "NchwSSmPqfMr",
        "colab": {
          "base_uri": "https://localhost:8080/"
        },
        "outputId": "0bdbf58b-e762-4f7f-ae2b-1af627f1dd8e"
      },
      "execution_count": null,
      "outputs": [
        {
          "output_type": "stream",
          "name": "stdout",
          "text": [
            "2.5\n"
          ]
        }
      ]
    },
    {
      "cell_type": "code",
      "source": [
        "print(2**1)"
      ],
      "metadata": {
        "colab": {
          "base_uri": "https://localhost:8080/"
        },
        "id": "kE_giP0ZDZuF",
        "outputId": "9d8ccd84-eb20-4330-e27c-6053baf81840"
      },
      "execution_count": null,
      "outputs": [
        {
          "output_type": "stream",
          "name": "stdout",
          "text": [
            "2\n"
          ]
        }
      ]
    },
    {
      "cell_type": "code",
      "source": [
        "print(2**-1)"
      ],
      "metadata": {
        "colab": {
          "base_uri": "https://localhost:8080/"
        },
        "id": "QrwnfgsjDslS",
        "outputId": "cd257048-27a4-4fa8-fb31-64d44a46e1c1"
      },
      "execution_count": null,
      "outputs": [
        {
          "output_type": "stream",
          "name": "stdout",
          "text": [
            "0.5\n"
          ]
        }
      ]
    },
    {
      "cell_type": "code",
      "source": [
        "print(3**-2 + 9 // 4 * 9)\n"
      ],
      "metadata": {
        "colab": {
          "base_uri": "https://localhost:8080/"
        },
        "id": "zi8JHGEdERB7",
        "outputId": "d36b3889-d17c-4fa3-b5b0-1356b57902cb"
      },
      "execution_count": null,
      "outputs": [
        {
          "output_type": "stream",
          "name": "stdout",
          "text": [
            "18.11111111111111\n"
          ]
        }
      ]
    },
    {
      "cell_type": "markdown",
      "source": [
        "Problem 4: Nested Operations with Parentheses\n",
        "\n",
        "Expression:"
      ],
      "metadata": {
        "id": "ALOZoG4Qqr29"
      }
    },
    {
      "cell_type": "code",
      "source": [
        "# Expression 4\n",
        "print((4 - 2) ** 3 / 2 + 1)"
      ],
      "metadata": {
        "id": "wcvX5Dvcqxxo",
        "colab": {
          "base_uri": "https://localhost:8080/"
        },
        "outputId": "02c3d99a-1228-4773-d907-407fb1ea2248"
      },
      "execution_count": null,
      "outputs": [
        {
          "output_type": "stream",
          "name": "stdout",
          "text": [
            "5.0\n"
          ]
        }
      ]
    },
    {
      "cell_type": "markdown",
      "source": [
        "Problem 5: Mixing Multiplication and Exponents\n",
        "\n",
        "Expression:"
      ],
      "metadata": {
        "id": "ftWma-Xeq3Nt"
      }
    },
    {
      "cell_type": "code",
      "source": [
        "# Expression 5\n",
        "print(3 * 2 ** 3)"
      ],
      "metadata": {
        "id": "Lf1s9Cpsr8Jz",
        "colab": {
          "base_uri": "https://localhost:8080/"
        },
        "outputId": "1d39450f-9852-4b54-c6f8-f9b368c2d944"
      },
      "execution_count": null,
      "outputs": [
        {
          "output_type": "stream",
          "name": "stdout",
          "text": [
            "24\n"
          ]
        }
      ]
    },
    {
      "cell_type": "markdown",
      "source": [
        "## 3. Practice Questions\n",
        "\n",
        "For each question, predict the output before running the code :"
      ],
      "metadata": {
        "id": "lY6eaMv6s6gt"
      }
    },
    {
      "cell_type": "code",
      "source": [
        "# Practice Problems\n",
        "# P1\n",
        "print(8 / (2 + 2) ** 2)\n",
        "# P2\n",
        "print(-10 % 3)\n",
        "# P3\n",
        "print(-3 ** 2)\n",
        "# P4\n",
        "print(1 + 2 ** 3 // 4 * 3.0)\n",
        "# P5\n",
        "print(4 ** 2 - 2 ** 3)\n",
        "# P6\n",
        "print((3 + 4) / 2 * 3)\n",
        "# P7\n",
        "print(25 // 10.0)"
      ],
      "metadata": {
        "id": "lukUxdwGtIHu",
        "colab": {
          "base_uri": "https://localhost:8080/"
        },
        "outputId": "ce54d3b9-28d2-46fe-c742-a4655b8b0851"
      },
      "execution_count": null,
      "outputs": [
        {
          "output_type": "stream",
          "name": "stdout",
          "text": [
            "0.5\n",
            "2\n",
            "-9\n",
            "7.0\n",
            "8\n",
            "10.5\n",
            "2.0\n"
          ]
        }
      ]
    },
    {
      "cell_type": "markdown",
      "source": [
        "Bonus"
      ],
      "metadata": {
        "id": "7ybQbrussA6p"
      }
    },
    {
      "cell_type": "code",
      "source": [
        "# Expression Error!\n",
        "print(1 ** 2 * 1 ** 1 * 2 ** 2 * 2)\n",
        "\n",
        "# 1 * 1 * 4 * 2\n",
        "# 8"
      ],
      "metadata": {
        "id": "9HujfvCfsZ58",
        "colab": {
          "base_uri": "https://localhost:8080/"
        },
        "outputId": "712dba2b-9298-418a-ac4c-e3039a9257de"
      },
      "execution_count": null,
      "outputs": [
        {
          "output_type": "stream",
          "name": "stdout",
          "text": [
            "8\n"
          ]
        }
      ]
    },
    {
      "cell_type": "code",
      "source": [
        "# Student submitted problems\n",
        "# P1\n",
        "#print((3**3-4)/(4*3)-(6/5))\n",
        "# P2\n",
        "#print((6*3/4**2)*(8*3/2**2))\n",
        "# P3\n",
        "#print((5+3/8*2) + (4**2/15))\n",
        "# P4\n",
        "#print(8 ** 6 ** 28 % 4 + 58.3251 - (23.0854 * 2))\n",
        "# P5\n",
        "#print(5 / 4 * (2**3) - 32 * -4)\n",
        "# P6\n",
        "#print(5 / 10 // 1 / 7 // 4 / 5 // 3)"
      ],
      "metadata": {
        "id": "Go3DaI2HL7wc"
      },
      "execution_count": null,
      "outputs": []
    },
    {
      "cell_type": "code",
      "source": [
        "#Bonus\n",
        "print((6*3/4**-2)*(8*3/2**-2))"
      ],
      "metadata": {
        "colab": {
          "base_uri": "https://localhost:8080/"
        },
        "id": "eYFpMc6xOo6q",
        "outputId": "358cbb87-0ca6-4769-8b36-e825e9fc60df"
      },
      "execution_count": null,
      "outputs": [
        {
          "output_type": "stream",
          "name": "stdout",
          "text": [
            "27648.0\n"
          ]
        }
      ]
    },
    {
      "cell_type": "markdown",
      "source": [
        "## 4. Final Thoughts\n",
        "\n",
        "✅Break down each expression step-by-step before running the code.\n",
        "\n",
        "✅ Use PEMDAS to determine the correct order of operations.\n",
        "\n",
        "✅ Write out your thought process before checking the actual result.\n",
        "\n",
        "✅ Experiment with different expressions to deepen your understanding."
      ],
      "metadata": {
        "id": "bAsi2svVtV1A"
      }
    },
    {
      "cell_type": "code",
      "source": [],
      "metadata": {
        "id": "4_92wgnmUG9e"
      },
      "execution_count": null,
      "outputs": []
    }
  ]
}